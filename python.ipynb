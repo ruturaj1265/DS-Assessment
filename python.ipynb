{
 "cells": [
  {
   "cell_type": "code",
   "execution_count": 1,
   "metadata": {},
   "outputs": [],
   "source": [
    "def print_nested_dict(input_dict, output=None, keys=None):\n",
    "    if output is None:\n",
    "        output = {}\n",
    "    if keys is None:\n",
    "        keys = []\n",
    "\n",
    "    for key, value in input_dict.items():\n",
    "        new_keys = keys + [key]\n",
    "        if isinstance(value, dict):\n",
    "            print_nested_dict(value, output, new_keys)\n",
    "        else:\n",
    "            output[key] = '.'.join(new_keys)\n",
    "\n",
    "    return output"
   ]
  },
  {
   "cell_type": "code",
   "execution_count": 2,
   "metadata": {},
   "outputs": [
    {
     "name": "stdout",
     "output_type": "stream",
     "text": [
      "{'yz': 'abc.def.ghi.jkl.mno.pqr.stu.vwx.yz'}\n"
     ]
    }
   ],
   "source": [
    "# Example input dictionary\n",
    "input_dict = {\"abc\":{\"def\":{\"ghi\":{\"jkl\":{\"mno\":{\"pqr\":{\"stu\":{\"vwx\":{\"yz\":\"you are finally here !!!\"}}}}}}}}}\n",
    "\n",
    "# Get the output dictionary\n",
    "output_dict = print_nested_dict(input_dict)\n",
    "\n",
    "# Print the output dictionary\n",
    "print(output_dict)"
   ]
  },
  {
   "cell_type": "code",
   "execution_count": 3,
   "metadata": {},
   "outputs": [
    {
     "name": "stdout",
     "output_type": "stream",
     "text": [
      "Largest minimum distance: 3\n"
     ]
    }
   ],
   "source": [
    "def min_distance_between_horses(stalls, k):\n",
    "    stalls.sort()\n",
    "    left, right = 1, stalls[-1] - stalls[0]\n",
    "\n",
    "    while left < right:\n",
    "        mid = (left + right) // 2\n",
    "        horses = 1\n",
    "        prev_stall = stalls[0]\n",
    "\n",
    "        for stall in stalls[1:]:\n",
    "            if stall - prev_stall >= mid:\n",
    "                horses += 1\n",
    "                prev_stall = stall\n",
    "\n",
    "        if horses >= k:\n",
    "            left = mid + 1\n",
    "        else:\n",
    "            right = mid\n",
    "\n",
    "    return left - 1\n",
    "\n",
    "# Example input\n",
    "stalls = [1, 2, 4, 8, 9]\n",
    "k = 3\n",
    "\n",
    "# Calculate the largest minimum distance\n",
    "largest_min_distance = min_distance_between_horses(stalls, k)\n",
    "print(\"Largest minimum distance:\", largest_min_distance)"
   ]
  },
  {
   "cell_type": "code",
   "execution_count": 4,
   "metadata": {},
   "outputs": [
    {
     "name": "stdout",
     "output_type": "stream",
     "text": [
      "---------.|.---------\n",
      "------.|..|..|.------\n",
      "---.|..|..|..|..|.---\n",
      "-------WELCOME-------\n",
      "---.|..|..|..|..|.---\n",
      "------.|..|..|.------\n",
      "---------.|.---------\n"
     ]
    }
   ],
   "source": [
    "def create_door_mat(N, M):\n",
    "    # Upper part of the mat\n",
    "    for i in range(N // 2):\n",
    "        pattern = '.|.' * (2 * i + 1)\n",
    "        print(pattern.center(M, '-'))\n",
    "\n",
    "    # Welcome message\n",
    "    print('WELCOME'.center(M, '-'))\n",
    "\n",
    "    # Lower part of the mat\n",
    "    for i in reversed(range(N // 2)):\n",
    "        pattern = '.|.' * (2 * i + 1)\n",
    "        print(pattern.center(M, '-'))\n",
    "\n",
    "# Example usage\n",
    "N = 7\n",
    "M = 21  # As M should be 3 times N\n",
    "\n",
    "create_door_mat(N, M)"
   ]
  },
  {
   "cell_type": "code",
   "execution_count": 5,
   "metadata": {},
   "outputs": [
    {
     "name": "stdout",
     "output_type": "stream",
     "text": [
      "[[-2, -1, 1, 2], [-2, 0, 0, 2], [-1, 0, 0, 1]]\n"
     ]
    }
   ],
   "source": [
    "def four_sum(nums, target):\n",
    "    nums.sort()\n",
    "    result = []\n",
    "\n",
    "    for i in range(len(nums) - 3):\n",
    "        if i > 0 and nums[i] == nums[i - 1]:\n",
    "            continue\n",
    "        for j in range(i + 1, len(nums) - 2):\n",
    "            if j > i + 1 and nums[j] == nums[j - 1]:\n",
    "                continue\n",
    "            left = j + 1\n",
    "            right = len(nums) - 1\n",
    "\n",
    "            while left < right:\n",
    "                current_sum = nums[i] + nums[j] + nums[left] + nums[right]\n",
    "                if current_sum == target:\n",
    "                    result.append([nums[i], nums[j], nums[left], nums[right]])\n",
    "                    while left < right and nums[left] == nums[left + 1]:\n",
    "                        left += 1\n",
    "                    while left < right and nums[right] == nums[right - 1]:\n",
    "                        right -= 1\n",
    "                    left += 1\n",
    "                    right -= 1\n",
    "                elif current_sum < target:\n",
    "                    left += 1\n",
    "                else:\n",
    "                    right -= 1\n",
    "\n",
    "    return result\n",
    "\n",
    "# Example usage:\n",
    "nums = [1, 0, -1, 0, -2, 2]\n",
    "target = 0\n",
    "print(four_sum(nums, target))"
   ]
  },
  {
   "cell_type": "code",
   "execution_count": null,
   "metadata": {},
   "outputs": [],
   "source": []
  }
 ],
 "metadata": {
  "kernelspec": {
   "display_name": "base",
   "language": "python",
   "name": "python3"
  },
  "language_info": {
   "codemirror_mode": {
    "name": "ipython",
    "version": 3
   },
   "file_extension": ".py",
   "mimetype": "text/x-python",
   "name": "python",
   "nbconvert_exporter": "python",
   "pygments_lexer": "ipython3",
   "version": "3.10.9"
  }
 },
 "nbformat": 4,
 "nbformat_minor": 2
}
